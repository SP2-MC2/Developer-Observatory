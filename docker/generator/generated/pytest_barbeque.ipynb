{
    "metadata": {
        "kernelspec": {
            "display_name": "Python 3",
            "language": "python",
            "name": "python3"
        },
        "language_info": {
            "codemirror_mode": {
                "name": "ipython",
                "version": 3
            },
            "file_extension": ".py",
            "mimetype": "text/x-python",
            "name": "python",
            "nbconvert_exporter": "python",
            "pygments_lexer": "ipython3",
            "version": "3.6.9"
        }
    },
    "nbformat": 4,
    "nbformat_minor": 2,
    "cells": [
        {
            "cell_type": "markdown",
            "metadata": {},
            "source": "# Hello World Study\r\n\r\nHello, welcome to a test of Developer Observatory. I'm really just testing stuff out here, nothing really too important.\r\n\r\nYour condition is pizza"
        },
        {
            "cell_type": "markdown",
            "metadata": {},
            "source": "## Task: Print Hello World\r\nYour goal for this task is to get python to print the string \"Hello World!\" without the quotes. Please do not use any external sources for this task."
        },
        {
            "cell_type": "code",
            "execution_count": 0,
            "outputs": [],
            "metadata": {
                "collapsed": false
            },
            "source": "# Place code below this line"
        }
    ]
}